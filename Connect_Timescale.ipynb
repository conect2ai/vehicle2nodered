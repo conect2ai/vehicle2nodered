{
  "nbformat": 4,
  "nbformat_minor": 2,
  "metadata": {
    "colab": {
      "provenance": []
    },
    "kernelspec": {
      "name": "python3",
      "display_name": "Python 3"
    },
    "language_info": {
      "name": "python"
    }
  },
  "cells": [
    {
      "cell_type": "markdown",
      "source": [
        "## Libraries"
      ],
      "metadata": {
        "id": "Aa4oqwlYgaGI"
      }
    },
    {
      "cell_type": "code",
      "execution_count": null,
      "source": [
        "!pip install sqlalchemy==1.4.47"
      ],
      "outputs": [],
      "metadata": {
        "id": "d-dbUzC2gx27"
      }
    },
    {
      "cell_type": "code",
      "execution_count": null,
      "source": [
        "!pip install folium"
      ],
      "outputs": [],
      "metadata": {
        "id": "M5mE4ObFi0ZM"
      }
    },
    {
      "cell_type": "code",
      "execution_count": 10,
      "source": [
        "import sqlalchemy as db\r\n",
        "import pandas as pd\r\n",
        "import plotly.express as px\r\n",
        "import plotly.graph_objects as go\r\n",
        "import folium\r\n",
        "import time\r\n",
        "from IPython.display import HTML\r\n",
        "import datetime\r\n",
        "from geopy.distance import geodesic"
      ],
      "outputs": [],
      "metadata": {
        "id": "2PiEePYVhyzk"
      }
    },
    {
      "cell_type": "markdown",
      "source": [
        "## Connection to database \n",
        "\n",
        "> It creates a connection with the database on Timescale\n"
      ],
      "metadata": {
        "id": "C9VnxsU-gdXY"
      }
    },
    {
      "cell_type": "code",
      "execution_count": 11,
      "source": [
        "your_username = \"user\" # Your username from Timescale here\r\n",
        "your_password = \"password\" # Your password from Timescale here\r\n",
        "your_host = \"host\" # Your host from Timescale here\r\n",
        "your_port = \"port\" # Your port from Timescale here\r\n",
        "your_database_name = \"database\" # Your database name from Timescale here\r\n",
        "\r\n",
        "engine = db.create_engine('postgresql://'+your_username+':'+your_password+'@'+your_host+':'+your_port+'/'+your_database_name)"
      ],
      "outputs": [],
      "metadata": {
        "id": "HElG1fAOg9TJ"
      }
    },
    {
      "cell_type": "code",
      "execution_count": 12,
      "source": [
        "connection = engine.connect()\r\n",
        "metadata = db.MetaData()\r\n",
        "data = db.Table('dados_torque', metadata, autoload=True, autoload_with=engine)"
      ],
      "outputs": [],
      "metadata": {
        "id": "adI445Vih_Yz"
      }
    },
    {
      "cell_type": "markdown",
      "source": [
        "## Results from database"
      ],
      "metadata": {
        "id": "zOiO18PdgrB6"
      }
    },
    {
      "cell_type": "markdown",
      "source": [
        "### Columns"
      ],
      "metadata": {
        "id": "hB4oc1nrgw-A"
      }
    },
    {
      "cell_type": "code",
      "execution_count": null,
      "source": [
        "print(data.columns.keys())"
      ],
      "outputs": [],
      "metadata": {
        "id": "UVV6tgfZi1bs"
      }
    },
    {
      "cell_type": "markdown",
      "source": [
        "### Data"
      ],
      "metadata": {
        "id": "Q3PV1Fpig0Xv"
      }
    },
    {
      "cell_type": "code",
      "execution_count": null,
      "source": [
        "query = db.select([data])\r\n",
        "ResultProxy = connection.execute(query)\r\n",
        "ResultSet = ResultProxy.fetchall()\r\n",
        "ResultSet[-3:-1]"
      ],
      "outputs": [],
      "metadata": {
        "id": "hN0rLn2Ki80y"
      }
    },
    {
      "cell_type": "markdown",
      "source": [
        "## Organizing data"
      ],
      "metadata": {
        "id": "VPHbIEijg2wK"
      }
    },
    {
      "cell_type": "code",
      "execution_count": null,
      "source": [
        "df = pd.DataFrame(ResultSet)\r\n",
        "df.columns = ResultSet[0].keys()\r\n",
        "print(df.shape)\r\n",
        "df.head()"
      ],
      "outputs": [],
      "metadata": {
        "id": "z_6m2ekIg4LI"
      }
    },
    {
      "cell_type": "markdown",
      "source": [
        "## Information in graphs"
      ],
      "metadata": {
        "id": "NN2ECQC6iGL9"
      }
    },
    {
      "cell_type": "code",
      "execution_count": null,
      "source": [
        "user_email = 'youremail@email.com' #Put your e-mail here\r\n",
        "day = '2023-04-10' #Put the day of the trip here (format yyyy-mm-dd)\r\n",
        "day_to_filter = pd.Timestamp(day).date()\r\n",
        "\r\n",
        "df_filter = df[df['appid_userentered'] == user_email] \r\n",
        "df_filter = df_filter[df_filter['time_sec'].dt.date == day_to_filter] \r\n",
        "\r\n",
        "print(df_filter.shape)\r\n",
        "df_filter.head()"
      ],
      "outputs": [],
      "metadata": {
        "id": "I-Gr9DQniIR9"
      }
    },
    {
      "cell_type": "code",
      "execution_count": null,
      "source": [
        "df_filter.dropna(axis=1, inplace=True)\r\n",
        "df_filter.head()"
      ],
      "outputs": [],
      "metadata": {
        "id": "thkb52Z_iX-a"
      }
    },
    {
      "cell_type": "markdown",
      "source": [
        "### Part 1) Speed values"
      ],
      "metadata": {
        "id": "CD234dpkRIhZ"
      }
    },
    {
      "cell_type": "markdown",
      "source": [
        "#### All speed sensor records"
      ],
      "metadata": {
        "id": "617tGRLGes51"
      }
    },
    {
      "cell_type": "code",
      "execution_count": null,
      "source": [
        "time = df_filter['time_sec']\r\n",
        "speed = df_filter['speedobd']\r\n",
        "\r\n",
        "fig = go.Figure()\r\n",
        "fig.add_trace(go.Scatter(x=time, y=speed, mode='lines', name='Speed'))\r\n",
        "\r\n",
        "fig.update_layout(\r\n",
        "    title={\r\n",
        "        'text': 'Speed values for a trip',\r\n",
        "        'font': {'size': 24}\r\n",
        "    },\r\n",
        "    xaxis_title='Time',\r\n",
        "    yaxis_title='Speed (km/h)',\r\n",
        "    font=dict(family='Arial', size=18, color='black'),\r\n",
        "    plot_bgcolor='rgb(250, 250, 250)',\r\n",
        "    paper_bgcolor='rgb(250, 250, 250)'\r\n",
        ")\r\n",
        "\r\n",
        "fig.update_traces(line=dict(width=2, color='RoyalBlue'))\r\n",
        "\r\n",
        "fig.update_xaxes(\r\n",
        "    showgrid=True,\r\n",
        "    gridcolor='lightgrey',\r\n",
        "    gridwidth=0.5,\r\n",
        "    tickfont=dict(family='Arial', size=14, color='black')\r\n",
        ")\r\n",
        "\r\n",
        "fig.update_yaxes(\r\n",
        "    showgrid=True,\r\n",
        "    gridcolor='lightgrey',\r\n",
        "    gridwidth=0.5,\r\n",
        "    tickfont=dict(family='Arial', size=14, color='black')\r\n",
        ")\r\n",
        "\r\n",
        "fig.show()"
      ],
      "outputs": [],
      "metadata": {
        "id": "Fqm0RDS1ROPJ"
      }
    },
    {
      "cell_type": "markdown",
      "source": [
        "#### Average trip speed"
      ],
      "metadata": {
        "id": "Ttw4i0T7ewPK"
      }
    },
    {
      "cell_type": "code",
      "execution_count": null,
      "source": [
        "avg_speed = round(speed.mean(), 2)\r\n",
        "min_speed = min(speed)\r\n",
        "max_speed = max(speed)\r\n",
        "\r\n",
        "fig = go.Figure(go.Indicator(\r\n",
        "    mode=\"gauge+number\",\r\n",
        "    value=avg_speed,\r\n",
        "    title={'text': \"Average trip speed (km/h)\"},\r\n",
        "    gauge={\r\n",
        "        'axis': {'range': [min_speed, max_speed]},\r\n",
        "        'steps': [\r\n",
        "            {'range': [min_speed, max_speed/2], 'color': \"lightgray\"},\r\n",
        "            {'range': [max_speed/2, max_speed], 'color': \"gray\"}]\r\n",
        "        }))\r\n",
        "\r\n",
        "fig.update_layout(\r\n",
        "    font=dict(family=\"Arial\", size=18, color=\"black\"),\r\n",
        "    margin=dict(t=50, b=0, l=0, r=0),\r\n",
        "    width=400, height=400)\r\n",
        "\r\n",
        "fig.show()"
      ],
      "outputs": [],
      "metadata": {
        "id": "KSqDZsVWSsD4"
      }
    },
    {
      "cell_type": "markdown",
      "source": [
        "#### Trip speed distribution"
      ],
      "metadata": {
        "id": "P9KjV3uUeyq3"
      }
    },
    {
      "cell_type": "code",
      "execution_count": null,
      "source": [
        "fig = px.histogram(df_filter, x='speedobd', nbins=10,\r\n",
        "                   color_discrete_sequence=['#007bff'],\r\n",
        "                   opacity=0.8,\r\n",
        "                   title='Trip speed distribution',\r\n",
        "                   barmode='overlay')\r\n",
        "\r\n",
        "fig.update_layout(xaxis=dict(title=dict(font=dict(size=18))),\r\n",
        "                  yaxis=dict(title=dict(font=dict(size=18))),\r\n",
        "                  legend=dict(font=dict(size=16)),\r\n",
        "                  font=dict(size=18))\r\n",
        "\r\n",
        "fig.update_xaxes(title=\"Speed (km/h)\")\r\n",
        "fig.update_yaxes(title=\"Number of speed sensor records\")\r\n",
        "\r\n",
        "fig.show()"
      ],
      "outputs": [],
      "metadata": {
        "id": "gwcdsiVucgTH"
      }
    },
    {
      "cell_type": "markdown",
      "source": [
        "### Part 2) Trip time and route\n"
      ],
      "metadata": {
        "id": "Q8Nu1Y7OUJtP"
      }
    },
    {
      "cell_type": "markdown",
      "source": [
        "#### Trip time"
      ],
      "metadata": {
        "id": "rbPY3aFffcDq"
      }
    },
    {
      "cell_type": "code",
      "execution_count": 21,
      "source": [
        "total_time = int(df_filter['timersincejourneystart'].values[-1])\n",
        "td = datetime.timedelta(seconds=total_time)\n",
        "d = datetime.datetime(1, 1, 1) + td\n",
        "total_time_ok = f'{d.hour}h {d.minute:02}min {d.second:02}sec'"
      ],
      "outputs": [],
      "metadata": {
        "id": "bFRHLiQPf73f"
      }
    },
    {
      "cell_type": "code",
      "execution_count": null,
      "source": [
        "h3_style = f'color: #1998cf; font-size: 22px; font-weight: bold;'\n",
        "h1_style = f'color: #0b6c96; font-size: 26px; font-weight: bold;'\n",
        "\n",
        "html = f'<h3 style=\"{h3_style}\">Total trip time</h3> <h1 style=\"{h1_style}\"> {total_time_ok} </h1>'\n",
        "\n",
        "display(HTML(html))"
      ],
      "outputs": [],
      "metadata": {
        "id": "pwBXG9Kvgkgx"
      }
    },
    {
      "cell_type": "markdown",
      "source": [
        "#### Route"
      ],
      "metadata": {
        "id": "VlPZz7ukfok5"
      }
    },
    {
      "cell_type": "code",
      "execution_count": 23,
      "source": [
        "lat = df_filter['gpslatitude']\n",
        "lon = df_filter['gpslongitude']"
      ],
      "outputs": [],
      "metadata": {
        "id": "D5nvUu1aUxmH"
      }
    },
    {
      "cell_type": "code",
      "execution_count": 24,
      "source": [
        "def get_color(speed):\n",
        "  if speed < 10.0:\n",
        "    return '#fdff7d'\n",
        "  elif speed < 20.0: \n",
        "    return '#fcff33'\n",
        "  elif speed < 30.0:\n",
        "    return '#ffd333'\n",
        "  elif speed < 40.0:\n",
        "    return '#fab00f'\n",
        "  elif speed < 50.0:\n",
        "    return '#fa6d0f'\n",
        "  elif speed < 60.0: \n",
        "    return '#fc5108'\n",
        "  elif speed < 70.0: \n",
        "    return '#ff523b'\n",
        "  elif speed < 80.0: \n",
        "    return '#ff1e00'\n",
        "  elif speed < 90.0: \n",
        "    return '#ff0055'\n",
        "  elif speed < 100.0: \n",
        "    return '#bd1772'\n",
        "  else:\n",
        "    return '#851b78'"
      ],
      "outputs": [],
      "metadata": {
        "id": "uudn3bbmg_vk"
      }
    },
    {
      "cell_type": "code",
      "execution_count": null,
      "source": [
        "points = list(zip(lat, lon))\n",
        "route_map = folium.Map(location=points[int(len(points)/2)], zoom_start=13)\n",
        "polilyne = folium.PolyLine(points, color='red').add_to(route_map)\n",
        "\n",
        "speed = df_filter['speedobd'].reset_index().drop(columns='index')\n",
        "points_speed = polilyne.locations\n",
        "\n",
        "for i, point in enumerate(points_speed):\n",
        "    cor = get_color(float(speed.values[i]))\n",
        "    if i > 0:\n",
        "        folium.PolyLine(locations=[points_speed[i-1], point], weight=5, color=cor).add_to(route_map)\n",
        "\n",
        "start_trip = [points[0][0], points[0][1]]\n",
        "final_trip = [points[-1][0], points[-1][1]]\n",
        "\n",
        "icon_start_trip = folium.Marker(location=start_trip, \n",
        "                                popup=folium.Popup('<h3> Início </h3>'),\n",
        "                                icon=folium.Icon(color='green', prefix='fa', icon='fa-solid fa-flag-checkered'))\n",
        "\n",
        "icon_final_trip = folium.Marker(location=final_trip, \n",
        "                                popup=folium.Popup('<h3> Chegada </h3>'),\n",
        "                                icon=folium.Icon(color='red', prefix='fa', icon='fa-solid fa-flag-checkered'))\n",
        "\n",
        "icon_start_trip.add_to(route_map)\n",
        "icon_final_trip.add_to(route_map)\n",
        "\n",
        "route_map"
      ],
      "outputs": [],
      "metadata": {
        "id": "nd5h0D6xVhMQ"
      }
    },
    {
      "cell_type": "markdown",
      "source": [
        "### Part 3) Trip distance"
      ],
      "metadata": {
        "id": "FJDPLdrrmsZV"
      }
    },
    {
      "cell_type": "code",
      "execution_count": 28,
      "source": [
        "total_dist = 0\n",
        "for i in range(len(points)-1):\n",
        "    dist = geodesic(points[i], points[i+1]).km\n",
        "    total_dist += dist"
      ],
      "outputs": [],
      "metadata": {
        "id": "MbhWLIk9eqFm"
      }
    },
    {
      "cell_type": "code",
      "execution_count": null,
      "source": [
        "h3_style = f'color: #1998cf; font-size: 22px; font-weight: bold;'\n",
        "h1_style = f'color: #0b6c96; font-size: 26px; font-weight: bold;'\n",
        "\n",
        "html = f'<h3 style=\"{h3_style}\">Total trip distance</h3> <h1 style=\"{h1_style}\"> {total_dist:.2f} km</h1>'\n",
        "\n",
        "display(HTML(html))"
      ],
      "outputs": [],
      "metadata": {
        "id": "XX5QYgnYnJ65"
      }
    }
  ]
}